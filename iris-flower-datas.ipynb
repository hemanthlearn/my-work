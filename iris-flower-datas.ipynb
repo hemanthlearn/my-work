{
 "cells": [
  {
   "cell_type": "code",
   "execution_count": 1,
   "id": "ba39a567",
   "metadata": {
    "execution": {
     "iopub.execute_input": "2024-06-23T08:31:49.140441Z",
     "iopub.status.busy": "2024-06-23T08:31:49.139969Z",
     "iopub.status.idle": "2024-06-23T08:32:07.825933Z",
     "shell.execute_reply": "2024-06-23T08:32:07.824602Z"
    },
    "id": "PMjV9RDmy75h",
    "papermill": {
     "duration": 18.701376,
     "end_time": "2024-06-23T08:32:07.828998",
     "exception": false,
     "start_time": "2024-06-23T08:31:49.127622",
     "status": "completed"
    },
    "tags": []
   },
   "outputs": [
    {
     "name": "stderr",
     "output_type": "stream",
     "text": [
      "2024-06-23 08:31:54.509088: E external/local_xla/xla/stream_executor/cuda/cuda_dnn.cc:9261] Unable to register cuDNN factory: Attempting to register factory for plugin cuDNN when one has already been registered\n",
      "2024-06-23 08:31:54.509338: E external/local_xla/xla/stream_executor/cuda/cuda_fft.cc:607] Unable to register cuFFT factory: Attempting to register factory for plugin cuFFT when one has already been registered\n",
      "2024-06-23 08:31:54.691224: E external/local_xla/xla/stream_executor/cuda/cuda_blas.cc:1515] Unable to register cuBLAS factory: Attempting to register factory for plugin cuBLAS when one has already been registered\n"
     ]
    }
   ],
   "source": [
    "import seaborn as sns\n",
    "import pandas as pd\n",
    "import matplotlib.pyplot as plt\n",
    "import numpy as np\n",
    "import pandas as pd\n",
    "import tensorflow as tf\n",
    "from tensorflow.keras.models import Sequential\n",
    "from tensorflow.keras.layers import Dense\n",
    "from sklearn.model_selection import train_test_split\n",
    "from sklearn.preprocessing import LabelEncoder\n",
    "from sklearn.preprocessing import StandardScaler\n"
   ]
  },
  {
   "cell_type": "markdown",
   "id": "a50a40ee",
   "metadata": {
    "papermill": {
     "duration": 0.009064,
     "end_time": "2024-06-23T08:32:07.848151",
     "exception": false,
     "start_time": "2024-06-23T08:32:07.839087",
     "status": "completed"
    },
    "tags": []
   },
   "source": [
    "# **LOAD DATASET**"
   ]
  },
  {
   "cell_type": "code",
   "execution_count": 2,
   "id": "75cbd457",
   "metadata": {
    "execution": {
     "iopub.execute_input": "2024-06-23T08:32:07.871008Z",
     "iopub.status.busy": "2024-06-23T08:32:07.869590Z",
     "iopub.status.idle": "2024-06-23T08:32:07.899189Z",
     "shell.execute_reply": "2024-06-23T08:32:07.897946Z"
    },
    "id": "uCp-RbWx6rRk",
    "papermill": {
     "duration": 0.044164,
     "end_time": "2024-06-23T08:32:07.901988",
     "exception": false,
     "start_time": "2024-06-23T08:32:07.857824",
     "status": "completed"
    },
    "tags": []
   },
   "outputs": [],
   "source": [
    "iris = pd.read_csv('/kaggle/input/iris-flower-dataset/IRIS.csv')"
   ]
  },
  {
   "cell_type": "code",
   "execution_count": 3,
   "id": "17b955ba",
   "metadata": {
    "execution": {
     "iopub.execute_input": "2024-06-23T08:32:07.924804Z",
     "iopub.status.busy": "2024-06-23T08:32:07.924344Z",
     "iopub.status.idle": "2024-06-23T08:32:07.954022Z",
     "shell.execute_reply": "2024-06-23T08:32:07.952758Z"
    },
    "id": "NSqTOhpl3bmg",
    "outputId": "9b901074-c02e-4e5b-fb5f-f880e34167fe",
    "papermill": {
     "duration": 0.043972,
     "end_time": "2024-06-23T08:32:07.956829",
     "exception": false,
     "start_time": "2024-06-23T08:32:07.912857",
     "status": "completed"
    },
    "tags": []
   },
   "outputs": [
    {
     "data": {
      "text/html": [
       "<div>\n",
       "<style scoped>\n",
       "    .dataframe tbody tr th:only-of-type {\n",
       "        vertical-align: middle;\n",
       "    }\n",
       "\n",
       "    .dataframe tbody tr th {\n",
       "        vertical-align: top;\n",
       "    }\n",
       "\n",
       "    .dataframe thead th {\n",
       "        text-align: right;\n",
       "    }\n",
       "</style>\n",
       "<table border=\"1\" class=\"dataframe\">\n",
       "  <thead>\n",
       "    <tr style=\"text-align: right;\">\n",
       "      <th></th>\n",
       "      <th>sepal_length</th>\n",
       "      <th>sepal_width</th>\n",
       "      <th>petal_length</th>\n",
       "      <th>petal_width</th>\n",
       "      <th>species</th>\n",
       "    </tr>\n",
       "  </thead>\n",
       "  <tbody>\n",
       "    <tr>\n",
       "      <th>0</th>\n",
       "      <td>5.1</td>\n",
       "      <td>3.5</td>\n",
       "      <td>1.4</td>\n",
       "      <td>0.2</td>\n",
       "      <td>Iris-setosa</td>\n",
       "    </tr>\n",
       "    <tr>\n",
       "      <th>1</th>\n",
       "      <td>4.9</td>\n",
       "      <td>3.0</td>\n",
       "      <td>1.4</td>\n",
       "      <td>0.2</td>\n",
       "      <td>Iris-setosa</td>\n",
       "    </tr>\n",
       "    <tr>\n",
       "      <th>2</th>\n",
       "      <td>4.7</td>\n",
       "      <td>3.2</td>\n",
       "      <td>1.3</td>\n",
       "      <td>0.2</td>\n",
       "      <td>Iris-setosa</td>\n",
       "    </tr>\n",
       "    <tr>\n",
       "      <th>3</th>\n",
       "      <td>4.6</td>\n",
       "      <td>3.1</td>\n",
       "      <td>1.5</td>\n",
       "      <td>0.2</td>\n",
       "      <td>Iris-setosa</td>\n",
       "    </tr>\n",
       "    <tr>\n",
       "      <th>4</th>\n",
       "      <td>5.0</td>\n",
       "      <td>3.6</td>\n",
       "      <td>1.4</td>\n",
       "      <td>0.2</td>\n",
       "      <td>Iris-setosa</td>\n",
       "    </tr>\n",
       "  </tbody>\n",
       "</table>\n",
       "</div>"
      ],
      "text/plain": [
       "   sepal_length  sepal_width  petal_length  petal_width      species\n",
       "0           5.1          3.5           1.4          0.2  Iris-setosa\n",
       "1           4.9          3.0           1.4          0.2  Iris-setosa\n",
       "2           4.7          3.2           1.3          0.2  Iris-setosa\n",
       "3           4.6          3.1           1.5          0.2  Iris-setosa\n",
       "4           5.0          3.6           1.4          0.2  Iris-setosa"
      ]
     },
     "execution_count": 3,
     "metadata": {},
     "output_type": "execute_result"
    }
   ],
   "source": [
    "iris.head()"
   ]
  },
  {
   "cell_type": "code",
   "execution_count": 4,
   "id": "662571d3",
   "metadata": {
    "execution": {
     "iopub.execute_input": "2024-06-23T08:32:07.978077Z",
     "iopub.status.busy": "2024-06-23T08:32:07.977595Z",
     "iopub.status.idle": "2024-06-23T08:32:07.997289Z",
     "shell.execute_reply": "2024-06-23T08:32:07.995768Z"
    },
    "papermill": {
     "duration": 0.033376,
     "end_time": "2024-06-23T08:32:07.999840",
     "exception": false,
     "start_time": "2024-06-23T08:32:07.966464",
     "status": "completed"
    },
    "tags": []
   },
   "outputs": [
    {
     "data": {
      "text/html": [
       "<div>\n",
       "<style scoped>\n",
       "    .dataframe tbody tr th:only-of-type {\n",
       "        vertical-align: middle;\n",
       "    }\n",
       "\n",
       "    .dataframe tbody tr th {\n",
       "        vertical-align: top;\n",
       "    }\n",
       "\n",
       "    .dataframe thead th {\n",
       "        text-align: right;\n",
       "    }\n",
       "</style>\n",
       "<table border=\"1\" class=\"dataframe\">\n",
       "  <thead>\n",
       "    <tr style=\"text-align: right;\">\n",
       "      <th></th>\n",
       "      <th>species</th>\n",
       "      <th>count</th>\n",
       "    </tr>\n",
       "  </thead>\n",
       "  <tbody>\n",
       "    <tr>\n",
       "      <th>0</th>\n",
       "      <td>Iris-setosa</td>\n",
       "      <td>50</td>\n",
       "    </tr>\n",
       "    <tr>\n",
       "      <th>1</th>\n",
       "      <td>Iris-versicolor</td>\n",
       "      <td>50</td>\n",
       "    </tr>\n",
       "    <tr>\n",
       "      <th>2</th>\n",
       "      <td>Iris-virginica</td>\n",
       "      <td>50</td>\n",
       "    </tr>\n",
       "  </tbody>\n",
       "</table>\n",
       "</div>"
      ],
      "text/plain": [
       "           species  count\n",
       "0      Iris-setosa     50\n",
       "1  Iris-versicolor     50\n",
       "2   Iris-virginica     50"
      ]
     },
     "execution_count": 4,
     "metadata": {},
     "output_type": "execute_result"
    }
   ],
   "source": [
    "Species = iris['species'].value_counts().reset_index()\n",
    "Species"
   ]
  },
  {
   "cell_type": "code",
   "execution_count": 5,
   "id": "c16fe02f",
   "metadata": {
    "execution": {
     "iopub.execute_input": "2024-06-23T08:32:08.022336Z",
     "iopub.status.busy": "2024-06-23T08:32:08.021902Z",
     "iopub.status.idle": "2024-06-23T08:32:08.297085Z",
     "shell.execute_reply": "2024-06-23T08:32:08.295750Z"
    },
    "papermill": {
     "duration": 0.289258,
     "end_time": "2024-06-23T08:32:08.299887",
     "exception": false,
     "start_time": "2024-06-23T08:32:08.010629",
     "status": "completed"
    },
    "tags": []
   },
   "outputs": [
    {
     "data": {
      "image/png": "[encoded data removed]",
      "text/plain": [
       "<Figure size 800x800 with 1 Axes>"
      ]
     },
     "metadata": {},
     "output_type": "display_data"
    }
   ],
   "source": [
    "plt.figure(figsize=(8,8))\n",
    "plt.pie(Species['count'],labels=['Iris-setosa','Iris-versicolor','Iris-virginica'],autopct='%1.3f%%',explode=[0,0,0])\n",
    "plt.legend(loc='upper left')\n",
    "plt.show()"
   ]
  },
  {
   "cell_type": "code",
   "execution_count": 6,
   "id": "8c83357b",
   "metadata": {
    "execution": {
     "iopub.execute_input": "2024-06-23T08:32:08.323172Z",
     "iopub.status.busy": "2024-06-23T08:32:08.322751Z",
     "iopub.status.idle": "2024-06-23T08:32:08.964627Z",
     "shell.execute_reply": "2024-06-23T08:32:08.963423Z"
    },
    "papermill": {
     "duration": 0.656259,
     "end_time": "2024-06-23T08:32:08.967171",
     "exception": false,
     "start_time": "2024-06-23T08:32:08.310912",
     "status": "completed"
    },
    "tags": []
   },
   "outputs": [
    {
     "data": {
      "image/png": "[encoded data removed]",
      "text/plain": [
       "<Figure size 543x400 with 1 Axes>"
      ]
     },
     "metadata": {},
     "output_type": "display_data"
    }
   ],
   "source": [
    "sns.FacetGrid(iris, hue ='species', height = 4).map(plt.scatter,\"petal_length\",\"sepal_width\").add_legend()\n",
    "plt.show()"
   ]
  },
  {
   "cell_type": "markdown",
   "id": "4a8825a9",
   "metadata": {
    "papermill": {
     "duration": 0.01075,
     "end_time": "2024-06-23T08:32:08.989480",
     "exception": false,
     "start_time": "2024-06-23T08:32:08.978730",
     "status": "completed"
    },
    "tags": []
   },
   "source": [
    "# **CHECKING MISSING VALUES**"
   ]
  },
  {
   "cell_type": "code",
   "execution_count": 7,
   "id": "f5fe9222",
   "metadata": {
    "execution": {
     "iopub.execute_input": "2024-06-23T08:32:09.016050Z",
     "iopub.status.busy": "2024-06-23T08:32:09.015613Z",
     "iopub.status.idle": "2024-06-23T08:32:09.025499Z",
     "shell.execute_reply": "2024-06-23T08:32:09.024081Z"
    },
    "id": "rGD0kSaH3ddy",
    "outputId": "439987f2-00c0-4cec-eef0-7900b349dca5",
    "papermill": {
     "duration": 0.027504,
     "end_time": "2024-06-23T08:32:09.028221",
     "exception": false,
     "start_time": "2024-06-23T08:32:09.000717",
     "status": "completed"
    },
    "tags": []
   },
   "outputs": [
    {
     "data": {
      "text/plain": [
       "sepal_length    0\n",
       "sepal_width     0\n",
       "petal_length    0\n",
       "petal_width     0\n",
       "species         0\n",
       "dtype: int64"
      ]
     },
     "execution_count": 7,
     "metadata": {},
     "output_type": "execute_result"
    }
   ],
   "source": [
    "iris.isnull().sum()"
   ]
  },
  {
   "cell_type": "code",
   "execution_count": 8,
   "id": "c4f11751",
   "metadata": {
    "execution": {
     "iopub.execute_input": "2024-06-23T08:32:09.053730Z",
     "iopub.status.busy": "2024-06-23T08:32:09.053244Z",
     "iopub.status.idle": "2024-06-23T08:32:09.062759Z",
     "shell.execute_reply": "2024-06-23T08:32:09.061518Z"
    },
    "id": "HYBfUYTb3uVZ",
    "outputId": "9ebdf587-6ac2-4a1d-8a7b-9de500ff62e8",
    "papermill": {
     "duration": 0.025204,
     "end_time": "2024-06-23T08:32:09.065346",
     "exception": false,
     "start_time": "2024-06-23T08:32:09.040142",
     "status": "completed"
    },
    "tags": []
   },
   "outputs": [
    {
     "data": {
      "text/plain": [
       "species\n",
       "Iris-setosa        50\n",
       "Iris-versicolor    50\n",
       "Iris-virginica     50\n",
       "Name: count, dtype: int64"
      ]
     },
     "execution_count": 8,
     "metadata": {},
     "output_type": "execute_result"
    }
   ],
   "source": [
    "iris['species'].value_counts()"
   ]
  },
  {
   "cell_type": "markdown",
   "id": "1fbd701a",
   "metadata": {
    "id": "I1zBlZck8NJt",
    "papermill": {
     "duration": 0.011845,
     "end_time": "2024-06-23T08:32:09.089535",
     "exception": false,
     "start_time": "2024-06-23T08:32:09.077690",
     "status": "completed"
    },
    "tags": []
   },
   "source": [
    "\n",
    "\n",
    "## **Target Variable Splitting**\n"
   ]
  },
  {
   "cell_type": "code",
   "execution_count": 9,
   "id": "ddff121f",
   "metadata": {
    "execution": {
     "iopub.execute_input": "2024-06-23T08:32:09.117450Z",
     "iopub.status.busy": "2024-06-23T08:32:09.117030Z",
     "iopub.status.idle": "2024-06-23T08:32:09.123945Z",
     "shell.execute_reply": "2024-06-23T08:32:09.122664Z"
    },
    "id": "BOXuklo079MC",
    "papermill": {
     "duration": 0.024496,
     "end_time": "2024-06-23T08:32:09.126626",
     "exception": false,
     "start_time": "2024-06-23T08:32:09.102130",
     "status": "completed"
    },
    "tags": []
   },
   "outputs": [],
   "source": [
    "x = iris.drop('species', axis = 1)\n",
    "y = iris['species']"
   ]
  },
  {
   "cell_type": "code",
   "execution_count": 10,
   "id": "32728e8f",
   "metadata": {
    "execution": {
     "iopub.execute_input": "2024-06-23T08:32:09.153221Z",
     "iopub.status.busy": "2024-06-23T08:32:09.152830Z",
     "iopub.status.idle": "2024-06-23T08:32:09.163938Z",
     "shell.execute_reply": "2024-06-23T08:32:09.162315Z"
    },
    "id": "bob6uHUA8bo5",
    "papermill": {
     "duration": 0.028845,
     "end_time": "2024-06-23T08:32:09.166986",
     "exception": false,
     "start_time": "2024-06-23T08:32:09.138141",
     "status": "completed"
    },
    "tags": []
   },
   "outputs": [],
   "source": [
    "scaler = StandardScaler().fit(x)\n",
    "x_transform = scaler.transform(x)"
   ]
  },
  {
   "cell_type": "markdown",
   "id": "2f97b8b8",
   "metadata": {
    "id": "sjFyVs0U7kU6",
    "papermill": {
     "duration": 0.011154,
     "end_time": "2024-06-23T08:32:09.192131",
     "exception": false,
     "start_time": "2024-06-23T08:32:09.180977",
     "status": "completed"
    },
    "tags": []
   },
   "source": [
    "# **label encoder**"
   ]
  },
  {
   "cell_type": "code",
   "execution_count": 11,
   "id": "05734556",
   "metadata": {
    "execution": {
     "iopub.execute_input": "2024-06-23T08:32:09.216577Z",
     "iopub.status.busy": "2024-06-23T08:32:09.216191Z",
     "iopub.status.idle": "2024-06-23T08:32:09.221316Z",
     "shell.execute_reply": "2024-06-23T08:32:09.220138Z"
    },
    "id": "Oyi4eJi77HH0",
    "papermill": {
     "duration": 0.020667,
     "end_time": "2024-06-23T08:32:09.224074",
     "exception": false,
     "start_time": "2024-06-23T08:32:09.203407",
     "status": "completed"
    },
    "tags": []
   },
   "outputs": [],
   "source": [
    "from sklearn.preprocessing import LabelEncoder"
   ]
  },
  {
   "cell_type": "code",
   "execution_count": 12,
   "id": "38214cb0",
   "metadata": {
    "execution": {
     "iopub.execute_input": "2024-06-23T08:32:09.249831Z",
     "iopub.status.busy": "2024-06-23T08:32:09.249383Z",
     "iopub.status.idle": "2024-06-23T08:32:09.255736Z",
     "shell.execute_reply": "2024-06-23T08:32:09.254478Z"
    },
    "id": "Vp2iQGAsEI5q",
    "papermill": {
     "duration": 0.022594,
     "end_time": "2024-06-23T08:32:09.258225",
     "exception": false,
     "start_time": "2024-06-23T08:32:09.235631",
     "status": "completed"
    },
    "tags": []
   },
   "outputs": [],
   "source": [
    "encoder = LabelEncoder()\n",
    "y_encoded = encoder.fit_transform(y)"
   ]
  },
  {
   "cell_type": "code",
   "execution_count": 13,
   "id": "a8be2abe",
   "metadata": {
    "execution": {
     "iopub.execute_input": "2024-06-23T08:32:09.282451Z",
     "iopub.status.busy": "2024-06-23T08:32:09.282054Z",
     "iopub.status.idle": "2024-06-23T08:32:09.287968Z",
     "shell.execute_reply": "2024-06-23T08:32:09.286720Z"
    },
    "id": "n8cOLLmj7uia",
    "papermill": {
     "duration": 0.021122,
     "end_time": "2024-06-23T08:32:09.290596",
     "exception": false,
     "start_time": "2024-06-23T08:32:09.269474",
     "status": "completed"
    },
    "tags": []
   },
   "outputs": [],
   "source": [
    "y_onehot = tf.keras.utils.to_categorical(y_encoded)"
   ]
  },
  {
   "cell_type": "code",
   "execution_count": 14,
   "id": "930fa628",
   "metadata": {
    "execution": {
     "iopub.execute_input": "2024-06-23T08:32:09.316384Z",
     "iopub.status.busy": "2024-06-23T08:32:09.315974Z",
     "iopub.status.idle": "2024-06-23T08:32:09.325467Z",
     "shell.execute_reply": "2024-06-23T08:32:09.324225Z"
    },
    "id": "xkEOIZMPEm7h",
    "papermill": {
     "duration": 0.024909,
     "end_time": "2024-06-23T08:32:09.328199",
     "exception": false,
     "start_time": "2024-06-23T08:32:09.303290",
     "status": "completed"
    },
    "tags": []
   },
   "outputs": [],
   "source": [
    "x_train, x_test, y_train, y_test = train_test_split(x_transform, y_onehot, test_size=0.10, random_state=101)"
   ]
  },
  {
   "cell_type": "code",
   "execution_count": 15,
   "id": "8476dd48",
   "metadata": {
    "execution": {
     "iopub.execute_input": "2024-06-23T08:32:09.353747Z",
     "iopub.status.busy": "2024-06-23T08:32:09.353274Z",
     "iopub.status.idle": "2024-06-23T08:32:09.359326Z",
     "shell.execute_reply": "2024-06-23T08:32:09.357998Z"
    },
    "id": "j5mA5IBd76-n",
    "papermill": {
     "duration": 0.022598,
     "end_time": "2024-06-23T08:32:09.362590",
     "exception": false,
     "start_time": "2024-06-23T08:32:09.339992",
     "status": "completed"
    },
    "tags": []
   },
   "outputs": [],
   "source": [
    "input_size = x_train.shape[1]"
   ]
  },
  {
   "cell_type": "code",
   "execution_count": 16,
   "id": "98a422b8",
   "metadata": {
    "execution": {
     "iopub.execute_input": "2024-06-23T08:32:09.387180Z",
     "iopub.status.busy": "2024-06-23T08:32:09.386753Z",
     "iopub.status.idle": "2024-06-23T08:32:09.394341Z",
     "shell.execute_reply": "2024-06-23T08:32:09.393202Z"
    },
    "id": "23bPPGs19LB3",
    "outputId": "84b2607b-2793-45b3-e4bf-64bade34707c",
    "papermill": {
     "duration": 0.023052,
     "end_time": "2024-06-23T08:32:09.397274",
     "exception": false,
     "start_time": "2024-06-23T08:32:09.374222",
     "status": "completed"
    },
    "tags": []
   },
   "outputs": [
    {
     "data": {
      "text/plain": [
       "(150, 5)"
      ]
     },
     "execution_count": 16,
     "metadata": {},
     "output_type": "execute_result"
    }
   ],
   "source": [
    "iris.shape"
   ]
  },
  {
   "cell_type": "markdown",
   "id": "4e20264e",
   "metadata": {
    "papermill": {
     "duration": 0.012244,
     "end_time": "2024-06-23T08:32:09.422308",
     "exception": false,
     "start_time": "2024-06-23T08:32:09.410064",
     "status": "completed"
    },
    "tags": []
   },
   "source": [
    "# **MODELING**"
   ]
  },
  {
   "cell_type": "code",
   "execution_count": 17,
   "id": "1dac6816",
   "metadata": {
    "execution": {
     "iopub.execute_input": "2024-06-23T08:32:09.447561Z",
     "iopub.status.busy": "2024-06-23T08:32:09.447102Z",
     "iopub.status.idle": "2024-06-23T08:32:09.453083Z",
     "shell.execute_reply": "2024-06-23T08:32:09.451901Z"
    },
    "id": "Ga7-mQOm8qoK",
    "papermill": {
     "duration": 0.021802,
     "end_time": "2024-06-23T08:32:09.455633",
     "exception": false,
     "start_time": "2024-06-23T08:32:09.433831",
     "status": "completed"
    },
    "tags": []
   },
   "outputs": [],
   "source": [
    "input_size = 4\n",
    "batch_size = 10\n",
    "hidden1 = 100\n",
    "hidden2 = 50\n",
    "classes = 3\n",
    "epochs = 70"
   ]
  },
  {
   "cell_type": "markdown",
   "id": "5f66000e",
   "metadata": {
    "id": "YnchTr3H92pq",
    "papermill": {
     "duration": 0.011997,
     "end_time": "2024-06-23T08:32:09.479517",
     "exception": false,
     "start_time": "2024-06-23T08:32:09.467520",
     "status": "completed"
    },
    "tags": []
   },
   "source": [
    "# **Building the FCN Model**"
   ]
  },
  {
   "cell_type": "code",
   "execution_count": 18,
   "id": "8de01278",
   "metadata": {
    "execution": {
     "iopub.execute_input": "2024-06-23T08:32:09.505340Z",
     "iopub.status.busy": "2024-06-23T08:32:09.504931Z",
     "iopub.status.idle": "2024-06-23T08:32:09.646166Z",
     "shell.execute_reply": "2024-06-23T08:32:09.644887Z"
    },
    "id": "6inLcH4z9udR",
    "outputId": "76b1e06a-da16-41aa-db3e-23eb00c69c68",
    "papermill": {
     "duration": 0.15749,
     "end_time": "2024-06-23T08:32:09.648857",
     "exception": false,
     "start_time": "2024-06-23T08:32:09.491367",
     "status": "completed"
    },
    "tags": []
   },
   "outputs": [
    {
     "name": "stderr",
     "output_type": "stream",
     "text": [
      "/opt/conda/lib/python3.10/site-packages/keras/src/layers/core/dense.py:87: UserWarning: Do not pass an `input_shape`/`input_dim` argument to a layer. When using Sequential models, prefer using an `Input(shape)` object as the first layer in the model instead.\n",
      "  super().__init__(activity_regularizer=activity_regularizer, **kwargs)\n"
     ]
    },
    {
     "data": {
      "text/html": [
       "<pre style=\"white-space:pre;overflow-x:auto;line-height:normal;font-family:Menlo,'DejaVu Sans Mono',consolas,'Courier New',monospace\"><span style=\"font-weight: bold\">Model: \"sequential\"</span>\n",
       "</pre>\n"
      ],
      "text/plain": [
       "\u001b[1mModel: \"sequential\"\u001b[0m\n"
      ]
     },
     "metadata": {},
     "output_type": "display_data"
    },
    {
     "data": {
      "text/html": [
       "<pre style=\"white-space:pre;overflow-x:auto;line-height:normal;font-family:Menlo,'DejaVu Sans Mono',consolas,'Courier New',monospace\">┏━━━━━━━━━━━━━━━━━━━━━━━━━━━━━━━━━┳━━━━━━━━━━━━━━━━━━━━━━━━┳━━━━━━━━━━━━━━━┓\n",
       "┃<span style=\"font-weight: bold\"> Layer (type)                    </span>┃<span style=\"font-weight: bold\"> Output Shape           </span>┃<span style=\"font-weight: bold\">       Param # </span>┃\n",
       "┡━━━━━━━━━━━━━━━━━━━━━━━━━━━━━━━━━╇━━━━━━━━━━━━━━━━━━━━━━━━╇━━━━━━━━━━━━━━━┩\n",
       "│ dense (<span style=\"color: #0087ff; text-decoration-color: #0087ff\">Dense</span>)                   │ (<span style=\"color: #00d7ff; text-decoration-color: #00d7ff\">None</span>, <span style=\"color: #00af00; text-decoration-color: #00af00\">100</span>)            │           <span style=\"color: #00af00; text-decoration-color: #00af00\">500</span> │\n",
       "├─────────────────────────────────┼────────────────────────┼───────────────┤\n",
       "│ dense_1 (<span style=\"color: #0087ff; text-decoration-color: #0087ff\">Dense</span>)                 │ (<span style=\"color: #00d7ff; text-decoration-color: #00d7ff\">None</span>, <span style=\"color: #00af00; text-decoration-color: #00af00\">50</span>)             │         <span style=\"color: #00af00; text-decoration-color: #00af00\">5,050</span> │\n",
       "├─────────────────────────────────┼────────────────────────┼───────────────┤\n",
       "│ dense_2 (<span style=\"color: #0087ff; text-decoration-color: #0087ff\">Dense</span>)                 │ (<span style=\"color: #00d7ff; text-decoration-color: #00d7ff\">None</span>, <span style=\"color: #00af00; text-decoration-color: #00af00\">3</span>)              │           <span style=\"color: #00af00; text-decoration-color: #00af00\">153</span> │\n",
       "└─────────────────────────────────┴────────────────────────┴───────────────┘\n",
       "</pre>\n"
      ],
      "text/plain": [
       "┏━━━━━━━━━━━━━━━━━━━━━━━━━━━━━━━━━┳━━━━━━━━━━━━━━━━━━━━━━━━┳━━━━━━━━━━━━━━━┓\n",
       "┃\u001b[1m \u001b[0m\u001b[1mLayer (type)                   \u001b[0m\u001b[1m \u001b[0m┃\u001b[1m \u001b[0m\u001b[1mOutput Shape          \u001b[0m\u001b[1m \u001b[0m┃\u001b[1m \u001b[0m\u001b[1m      Param #\u001b[0m\u001b[1m \u001b[0m┃\n",
       "┡━━━━━━━━━━━━━━━━━━━━━━━━━━━━━━━━━╇━━━━━━━━━━━━━━━━━━━━━━━━╇━━━━━━━━━━━━━━━┩\n",
       "│ dense (\u001b[38;5;33mDense\u001b[0m)                   │ (\u001b[38;5;45mNone\u001b[0m, \u001b[38;5;34m100\u001b[0m)            │           \u001b[38;5;34m500\u001b[0m │\n",
       "├─────────────────────────────────┼────────────────────────┼───────────────┤\n",
       "│ dense_1 (\u001b[38;5;33mDense\u001b[0m)                 │ (\u001b[38;5;45mNone\u001b[0m, \u001b[38;5;34m50\u001b[0m)             │         \u001b[38;5;34m5,050\u001b[0m │\n",
       "├─────────────────────────────────┼────────────────────────┼───────────────┤\n",
       "│ dense_2 (\u001b[38;5;33mDense\u001b[0m)                 │ (\u001b[38;5;45mNone\u001b[0m, \u001b[38;5;34m3\u001b[0m)              │           \u001b[38;5;34m153\u001b[0m │\n",
       "└─────────────────────────────────┴────────────────────────┴───────────────┘\n"
      ]
     },
     "metadata": {},
     "output_type": "display_data"
    },
    {
     "data": {
      "text/html": [
       "<pre style=\"white-space:pre;overflow-x:auto;line-height:normal;font-family:Menlo,'DejaVu Sans Mono',consolas,'Courier New',monospace\"><span style=\"font-weight: bold\"> Total params: </span><span style=\"color: #00af00; text-decoration-color: #00af00\">5,703</span> (22.28 KB)\n",
       "</pre>\n"
      ],
      "text/plain": [
       "\u001b[1m Total params: \u001b[0m\u001b[38;5;34m5,703\u001b[0m (22.28 KB)\n"
      ]
     },
     "metadata": {},
     "output_type": "display_data"
    },
    {
     "data": {
      "text/html": [
       "<pre style=\"white-space:pre;overflow-x:auto;line-height:normal;font-family:Menlo,'DejaVu Sans Mono',consolas,'Courier New',monospace\"><span style=\"font-weight: bold\"> Trainable params: </span><span style=\"color: #00af00; text-decoration-color: #00af00\">5,703</span> (22.28 KB)\n",
       "</pre>\n"
      ],
      "text/plain": [
       "\u001b[1m Trainable params: \u001b[0m\u001b[38;5;34m5,703\u001b[0m (22.28 KB)\n"
      ]
     },
     "metadata": {},
     "output_type": "display_data"
    },
    {
     "data": {
      "text/html": [
       "<pre style=\"white-space:pre;overflow-x:auto;line-height:normal;font-family:Menlo,'DejaVu Sans Mono',consolas,'Courier New',monospace\"><span style=\"font-weight: bold\"> Non-trainable params: </span><span style=\"color: #00af00; text-decoration-color: #00af00\">0</span> (0.00 B)\n",
       "</pre>\n"
      ],
      "text/plain": [
       "\u001b[1m Non-trainable params: \u001b[0m\u001b[38;5;34m0\u001b[0m (0.00 B)\n"
      ]
     },
     "metadata": {},
     "output_type": "display_data"
    }
   ],
   "source": [
    "model = Sequential()\n",
    "model.add(Dense(hidden1, input_dim=input_size, activation='relu'))\n",
    "model.add(Dense(hidden2, activation='relu'))\n",
    "model.add(Dense(classes, activation='softmax'))\n",
    "\n",
    "model.compile(optimizer='adam', loss='categorical_crossentropy', metrics=['accuracy'])\n",
    "\n",
    "model.summary()"
   ]
  },
  {
   "cell_type": "markdown",
   "id": "13e9ed05",
   "metadata": {
    "id": "mUxhkWBh-V0m",
    "papermill": {
     "duration": 0.012842,
     "end_time": "2024-06-23T08:32:09.675053",
     "exception": false,
     "start_time": "2024-06-23T08:32:09.662211",
     "status": "completed"
    },
    "tags": []
   },
   "source": [
    "# **train a model**"
   ]
  },
  {
   "cell_type": "code",
   "execution_count": 19,
   "id": "0e799b14",
   "metadata": {
    "execution": {
     "iopub.execute_input": "2024-06-23T08:32:09.703725Z",
     "iopub.status.busy": "2024-06-23T08:32:09.703272Z",
     "iopub.status.idle": "2024-06-23T08:32:15.188274Z",
     "shell.execute_reply": "2024-06-23T08:32:15.186940Z"
    },
    "id": "9cNZcedV-LZb",
    "outputId": "1b497998-499a-458c-8970-39c373b78549",
    "papermill": {
     "duration": 5.502852,
     "end_time": "2024-06-23T08:32:15.191161",
     "exception": false,
     "start_time": "2024-06-23T08:32:09.688309",
     "status": "completed"
    },
    "tags": []
   },
   "outputs": [
    {
     "name": "stdout",
     "output_type": "stream",
     "text": [
      "Epoch 1/70\n",
      "\u001b[1m14/14\u001b[0m \u001b[32m━━━━━━━━━━━━━━━━━━━━\u001b[0m\u001b[37m\u001b[0m \u001b[1m1s\u001b[0m 3ms/step - accuracy: 0.5253 - loss: 0.9799    \n",
      "Epoch 2/70\n",
      "\u001b[1m14/14\u001b[0m \u001b[32m━━━━━━━━━━━━━━━━━━━━\u001b[0m\u001b[37m\u001b[0m \u001b[1m0s\u001b[0m 2ms/step - accuracy: 0.7326 - loss: 0.6982 \n",
      "Epoch 3/70\n",
      "\u001b[1m14/14\u001b[0m \u001b[32m━━━━━━━━━━━━━━━━━━━━\u001b[0m\u001b[37m\u001b[0m \u001b[1m0s\u001b[0m 2ms/step - accuracy: 0.7908 - loss: 0.5859 \n",
      "Epoch 4/70\n",
      "\u001b[1m14/14\u001b[0m \u001b[32m━━━━━━━━━━━━━━━━━━━━\u001b[0m\u001b[37m\u001b[0m \u001b[1m0s\u001b[0m 2ms/step - accuracy: 0.8305 - loss: 0.4614 \n",
      "Epoch 5/70\n",
      "\u001b[1m14/14\u001b[0m \u001b[32m━━━━━━━━━━━━━━━━━━━━\u001b[0m\u001b[37m\u001b[0m \u001b[1m0s\u001b[0m 2ms/step - accuracy: 0.8495 - loss: 0.3850 \n",
      "Epoch 6/70\n",
      "\u001b[1m14/14\u001b[0m \u001b[32m━━━━━━━━━━━━━━━━━━━━\u001b[0m\u001b[37m\u001b[0m \u001b[1m0s\u001b[0m 2ms/step - accuracy: 0.8250 - loss: 0.3488 \n",
      "Epoch 7/70\n",
      "\u001b[1m14/14\u001b[0m \u001b[32m━━━━━━━━━━━━━━━━━━━━\u001b[0m\u001b[37m\u001b[0m \u001b[1m0s\u001b[0m 2ms/step - accuracy: 0.8471 - loss: 0.3141 \n",
      "Epoch 8/70\n",
      "\u001b[1m14/14\u001b[0m \u001b[32m━━━━━━━━━━━━━━━━━━━━\u001b[0m\u001b[37m\u001b[0m \u001b[1m0s\u001b[0m 2ms/step - accuracy: 0.8643 - loss: 0.3234 \n",
      "Epoch 9/70\n",
      "\u001b[1m14/14\u001b[0m \u001b[32m━━━━━━━━━━━━━━━━━━━━\u001b[0m\u001b[37m\u001b[0m \u001b[1m0s\u001b[0m 2ms/step - accuracy: 0.9223 - loss: 0.2480 \n",
      "Epoch 10/70\n",
      "\u001b[1m14/14\u001b[0m \u001b[32m━━━━━━━━━━━━━━━━━━━━\u001b[0m\u001b[37m\u001b[0m \u001b[1m0s\u001b[0m 2ms/step - accuracy: 0.9068 - loss: 0.2187 \n",
      "Epoch 11/70\n",
      "\u001b[1m14/14\u001b[0m \u001b[32m━━━━━━━━━━━━━━━━━━━━\u001b[0m\u001b[37m\u001b[0m \u001b[1m0s\u001b[0m 2ms/step - accuracy: 0.9354 - loss: 0.2007 \n",
      "Epoch 12/70\n",
      "\u001b[1m14/14\u001b[0m \u001b[32m━━━━━━━━━━━━━━━━━━━━\u001b[0m\u001b[37m\u001b[0m \u001b[1m0s\u001b[0m 2ms/step - accuracy: 0.9716 - loss: 0.1491 \n",
      "Epoch 13/70\n",
      "\u001b[1m14/14\u001b[0m \u001b[32m━━━━━━━━━━━━━━━━━━━━\u001b[0m\u001b[37m\u001b[0m \u001b[1m0s\u001b[0m 2ms/step - accuracy: 0.9702 - loss: 0.1374 \n",
      "Epoch 14/70\n",
      "\u001b[1m14/14\u001b[0m \u001b[32m━━━━━━━━━━━━━━━━━━━━\u001b[0m\u001b[37m\u001b[0m \u001b[1m0s\u001b[0m 2ms/step - accuracy: 0.9663 - loss: 0.1434 \n",
      "Epoch 15/70\n",
      "\u001b[1m14/14\u001b[0m \u001b[32m━━━━━━━━━━━━━━━━━━━━\u001b[0m\u001b[37m\u001b[0m \u001b[1m0s\u001b[0m 2ms/step - accuracy: 0.9494 - loss: 0.1570 \n",
      "Epoch 16/70\n",
      "\u001b[1m14/14\u001b[0m \u001b[32m━━━━━━━━━━━━━━━━━━━━\u001b[0m\u001b[37m\u001b[0m \u001b[1m0s\u001b[0m 2ms/step - accuracy: 0.9446 - loss: 0.1247 \n",
      "Epoch 17/70\n",
      "\u001b[1m14/14\u001b[0m \u001b[32m━━━━━━━━━━━━━━━━━━━━\u001b[0m\u001b[37m\u001b[0m \u001b[1m0s\u001b[0m 2ms/step - accuracy: 0.9729 - loss: 0.0953 \n",
      "Epoch 18/70\n",
      "\u001b[1m14/14\u001b[0m \u001b[32m━━━━━━━━━━━━━━━━━━━━\u001b[0m\u001b[37m\u001b[0m \u001b[1m0s\u001b[0m 2ms/step - accuracy: 0.9382 - loss: 0.1048 \n",
      "Epoch 19/70\n",
      "\u001b[1m14/14\u001b[0m \u001b[32m━━━━━━━━━━━━━━━━━━━━\u001b[0m\u001b[37m\u001b[0m \u001b[1m0s\u001b[0m 2ms/step - accuracy: 0.9716 - loss: 0.0800 \n",
      "Epoch 20/70\n",
      "\u001b[1m14/14\u001b[0m \u001b[32m━━━━━━━━━━━━━━━━━━━━\u001b[0m\u001b[37m\u001b[0m \u001b[1m0s\u001b[0m 2ms/step - accuracy: 0.9515 - loss: 0.0899 \n",
      "Epoch 21/70\n",
      "\u001b[1m14/14\u001b[0m \u001b[32m━━━━━━━━━━━━━━━━━━━━\u001b[0m\u001b[37m\u001b[0m \u001b[1m0s\u001b[0m 3ms/step - accuracy: 0.9556 - loss: 0.0970 \n",
      "Epoch 22/70\n",
      "\u001b[1m14/14\u001b[0m \u001b[32m━━━━━━━━━━━━━━━━━━━━\u001b[0m\u001b[37m\u001b[0m \u001b[1m0s\u001b[0m 2ms/step - accuracy: 0.9609 - loss: 0.0739 \n",
      "Epoch 23/70\n",
      "\u001b[1m14/14\u001b[0m \u001b[32m━━━━━━━━━━━━━━━━━━━━\u001b[0m\u001b[37m\u001b[0m \u001b[1m0s\u001b[0m 2ms/step - accuracy: 0.9588 - loss: 0.0859 \n",
      "Epoch 24/70\n",
      "\u001b[1m14/14\u001b[0m \u001b[32m━━━━━━━━━━━━━━━━━━━━\u001b[0m\u001b[37m\u001b[0m \u001b[1m0s\u001b[0m 2ms/step - accuracy: 0.9795 - loss: 0.0488 \n",
      "Epoch 25/70\n",
      "\u001b[1m14/14\u001b[0m \u001b[32m━━━━━━━━━━━━━━━━━━━━\u001b[0m\u001b[37m\u001b[0m \u001b[1m0s\u001b[0m 2ms/step - accuracy: 0.9592 - loss: 0.0804 \n",
      "Epoch 26/70\n",
      "\u001b[1m14/14\u001b[0m \u001b[32m━━━━━━━━━━━━━━━━━━━━\u001b[0m\u001b[37m\u001b[0m \u001b[1m0s\u001b[0m 2ms/step - accuracy: 0.9618 - loss: 0.0708 \n",
      "Epoch 27/70\n",
      "\u001b[1m14/14\u001b[0m \u001b[32m━━━━━━━━━━━━━━━━━━━━\u001b[0m\u001b[37m\u001b[0m \u001b[1m0s\u001b[0m 2ms/step - accuracy: 0.9910 - loss: 0.0489 \n",
      "Epoch 28/70\n",
      "\u001b[1m14/14\u001b[0m \u001b[32m━━━━━━━━━━━━━━━━━━━━\u001b[0m\u001b[37m\u001b[0m \u001b[1m0s\u001b[0m 2ms/step - accuracy: 0.9860 - loss: 0.0491 \n",
      "Epoch 29/70\n",
      "\u001b[1m14/14\u001b[0m \u001b[32m━━━━━━━━━━━━━━━━━━━━\u001b[0m\u001b[37m\u001b[0m \u001b[1m0s\u001b[0m 2ms/step - accuracy: 0.9930 - loss: 0.0442 \n",
      "Epoch 30/70\n",
      "\u001b[1m14/14\u001b[0m \u001b[32m━━━━━━━━━━━━━━━━━━━━\u001b[0m\u001b[37m\u001b[0m \u001b[1m0s\u001b[0m 2ms/step - accuracy: 0.9824 - loss: 0.0619 \n",
      "Epoch 31/70\n",
      "\u001b[1m14/14\u001b[0m \u001b[32m━━━━━━━━━━━━━━━━━━━━\u001b[0m\u001b[37m\u001b[0m \u001b[1m0s\u001b[0m 2ms/step - accuracy: 0.9902 - loss: 0.0489 \n",
      "Epoch 32/70\n",
      "\u001b[1m14/14\u001b[0m \u001b[32m━━━━━━━━━━━━━━━━━━━━\u001b[0m\u001b[37m\u001b[0m \u001b[1m0s\u001b[0m 2ms/step - accuracy: 0.9841 - loss: 0.0414 \n",
      "Epoch 33/70\n",
      "\u001b[1m14/14\u001b[0m \u001b[32m━━━━━━━━━━━━━━━━━━━━\u001b[0m\u001b[37m\u001b[0m \u001b[1m0s\u001b[0m 2ms/step - accuracy: 0.9970 - loss: 0.0352 \n",
      "Epoch 34/70\n",
      "\u001b[1m14/14\u001b[0m \u001b[32m━━━━━━━━━━━━━━━━━━━━\u001b[0m\u001b[37m\u001b[0m \u001b[1m0s\u001b[0m 2ms/step - accuracy: 0.9918 - loss: 0.0333 \n",
      "Epoch 35/70\n",
      "\u001b[1m14/14\u001b[0m \u001b[32m━━━━━━━━━━━━━━━━━━━━\u001b[0m\u001b[37m\u001b[0m \u001b[1m0s\u001b[0m 2ms/step - accuracy: 0.9848 - loss: 0.0507 \n",
      "Epoch 36/70\n",
      "\u001b[1m14/14\u001b[0m \u001b[32m━━━━━━━━━━━━━━━━━━━━\u001b[0m\u001b[37m\u001b[0m \u001b[1m0s\u001b[0m 2ms/step - accuracy: 0.9811 - loss: 0.0507 \n",
      "Epoch 37/70\n",
      "\u001b[1m14/14\u001b[0m \u001b[32m━━━━━━━━━━━━━━━━━━━━\u001b[0m\u001b[37m\u001b[0m \u001b[1m0s\u001b[0m 2ms/step - accuracy: 0.9590 - loss: 0.0714 \n",
      "Epoch 38/70\n",
      "\u001b[1m14/14\u001b[0m \u001b[32m━━━━━━━━━━━━━━━━━━━━\u001b[0m\u001b[37m\u001b[0m \u001b[1m0s\u001b[0m 2ms/step - accuracy: 0.9867 - loss: 0.0438 \n",
      "Epoch 39/70\n",
      "\u001b[1m14/14\u001b[0m \u001b[32m━━━━━━━━━━━━━━━━━━━━\u001b[0m\u001b[37m\u001b[0m \u001b[1m0s\u001b[0m 2ms/step - accuracy: 0.9729 - loss: 0.0570 \n",
      "Epoch 40/70\n",
      "\u001b[1m14/14\u001b[0m \u001b[32m━━━━━━━━━━━━━━━━━━━━\u001b[0m\u001b[37m\u001b[0m \u001b[1m0s\u001b[0m 2ms/step - accuracy: 0.9768 - loss: 0.0417 \n",
      "Epoch 41/70\n",
      "\u001b[1m14/14\u001b[0m \u001b[32m━━━━━━━━━━━━━━━━━━━━\u001b[0m\u001b[37m\u001b[0m \u001b[1m0s\u001b[0m 3ms/step - accuracy: 0.9936 - loss: 0.0431 \n",
      "Epoch 42/70\n",
      "\u001b[1m14/14\u001b[0m \u001b[32m━━━━━━━━━━━━━━━━━━━━\u001b[0m\u001b[37m\u001b[0m \u001b[1m0s\u001b[0m 2ms/step - accuracy: 0.9970 - loss: 0.0220 \n",
      "Epoch 43/70\n",
      "\u001b[1m14/14\u001b[0m \u001b[32m━━━━━━━━━━━━━━━━━━━━\u001b[0m\u001b[37m\u001b[0m \u001b[1m0s\u001b[0m 2ms/step - accuracy: 0.9714 - loss: 0.0486 \n",
      "Epoch 44/70\n",
      "\u001b[1m14/14\u001b[0m \u001b[32m━━━━━━━━━━━━━━━━━━━━\u001b[0m\u001b[37m\u001b[0m \u001b[1m0s\u001b[0m 2ms/step - accuracy: 0.9856 - loss: 0.0572 \n",
      "Epoch 45/70\n",
      "\u001b[1m14/14\u001b[0m \u001b[32m━━━━━━━━━━━━━━━━━━━━\u001b[0m\u001b[37m\u001b[0m \u001b[1m0s\u001b[0m 2ms/step - accuracy: 0.9751 - loss: 0.0735 \n",
      "Epoch 46/70\n",
      "\u001b[1m14/14\u001b[0m \u001b[32m━━━━━━━━━━━━━━━━━━━━\u001b[0m\u001b[37m\u001b[0m \u001b[1m0s\u001b[0m 2ms/step - accuracy: 0.9775 - loss: 0.0549 \n",
      "Epoch 47/70\n",
      "\u001b[1m14/14\u001b[0m \u001b[32m━━━━━━━━━━━━━━━━━━━━\u001b[0m\u001b[37m\u001b[0m \u001b[1m0s\u001b[0m 2ms/step - accuracy: 0.9957 - loss: 0.0299 \n",
      "Epoch 48/70\n",
      "\u001b[1m14/14\u001b[0m \u001b[32m━━━━━━━━━━━━━━━━━━━━\u001b[0m\u001b[37m\u001b[0m \u001b[1m0s\u001b[0m 2ms/step - accuracy: 0.9823 - loss: 0.0294 \n",
      "Epoch 49/70\n",
      "\u001b[1m14/14\u001b[0m \u001b[32m━━━━━━━━━━━━━━━━━━━━\u001b[0m\u001b[37m\u001b[0m \u001b[1m0s\u001b[0m 2ms/step - accuracy: 0.9958 - loss: 0.0252 \n",
      "Epoch 50/70\n",
      "\u001b[1m14/14\u001b[0m \u001b[32m━━━━━━━━━━━━━━━━━━━━\u001b[0m\u001b[37m\u001b[0m \u001b[1m0s\u001b[0m 2ms/step - accuracy: 0.9678 - loss: 0.0499 \n",
      "Epoch 51/70\n",
      "\u001b[1m14/14\u001b[0m \u001b[32m━━━━━━━━━━━━━━━━━━━━\u001b[0m\u001b[37m\u001b[0m \u001b[1m0s\u001b[0m 2ms/step - accuracy: 0.9919 - loss: 0.0285 \n",
      "Epoch 52/70\n",
      "\u001b[1m14/14\u001b[0m \u001b[32m━━━━━━━━━━━━━━━━━━━━\u001b[0m\u001b[37m\u001b[0m \u001b[1m0s\u001b[0m 2ms/step - accuracy: 0.9786 - loss: 0.0443 \n",
      "Epoch 53/70\n",
      "\u001b[1m14/14\u001b[0m \u001b[32m━━━━━━━━━━━━━━━━━━━━\u001b[0m\u001b[37m\u001b[0m \u001b[1m0s\u001b[0m 2ms/step - accuracy: 0.9957 - loss: 0.0332 \n",
      "Epoch 54/70\n",
      "\u001b[1m14/14\u001b[0m \u001b[32m━━━━━━━━━━━━━━━━━━━━\u001b[0m\u001b[37m\u001b[0m \u001b[1m0s\u001b[0m 2ms/step - accuracy: 0.9796 - loss: 0.0467 \n",
      "Epoch 55/70\n",
      "\u001b[1m14/14\u001b[0m \u001b[32m━━━━━━━━━━━━━━━━━━━━\u001b[0m\u001b[37m\u001b[0m \u001b[1m0s\u001b[0m 2ms/step - accuracy: 0.9881 - loss: 0.0299 \n",
      "Epoch 56/70\n",
      "\u001b[1m14/14\u001b[0m \u001b[32m━━━━━━━━━━━━━━━━━━━━\u001b[0m\u001b[37m\u001b[0m \u001b[1m0s\u001b[0m 2ms/step - accuracy: 0.9623 - loss: 0.0600 \n",
      "Epoch 57/70\n",
      "\u001b[1m14/14\u001b[0m \u001b[32m━━━━━━━━━━━━━━━━━━━━\u001b[0m\u001b[37m\u001b[0m \u001b[1m0s\u001b[0m 2ms/step - accuracy: 0.9939 - loss: 0.0220 \n",
      "Epoch 58/70\n",
      "\u001b[1m14/14\u001b[0m \u001b[32m━━━━━━━━━━━━━━━━━━━━\u001b[0m\u001b[37m\u001b[0m \u001b[1m0s\u001b[0m 2ms/step - accuracy: 0.9861 - loss: 0.0294 \n",
      "Epoch 59/70\n",
      "\u001b[1m14/14\u001b[0m \u001b[32m━━━━━━━━━━━━━━━━━━━━\u001b[0m\u001b[37m\u001b[0m \u001b[1m0s\u001b[0m 2ms/step - accuracy: 0.9858 - loss: 0.0282 \n",
      "Epoch 60/70\n",
      "\u001b[1m14/14\u001b[0m \u001b[32m━━━━━━━━━━━━━━━━━━━━\u001b[0m\u001b[37m\u001b[0m \u001b[1m0s\u001b[0m 2ms/step - accuracy: 0.9930 - loss: 0.0194 \n",
      "Epoch 61/70\n",
      "\u001b[1m14/14\u001b[0m \u001b[32m━━━━━━━━━━━━━━━━━━━━\u001b[0m\u001b[37m\u001b[0m \u001b[1m0s\u001b[0m 2ms/step - accuracy: 0.9768 - loss: 0.0509 \n",
      "Epoch 62/70\n",
      "\u001b[1m14/14\u001b[0m \u001b[32m━━━━━━━━━━━━━━━━━━━━\u001b[0m\u001b[37m\u001b[0m \u001b[1m0s\u001b[0m 2ms/step - accuracy: 0.9851 - loss: 0.0518 \n",
      "Epoch 63/70\n",
      "\u001b[1m14/14\u001b[0m \u001b[32m━━━━━━━━━━━━━━━━━━━━\u001b[0m\u001b[37m\u001b[0m \u001b[1m0s\u001b[0m 2ms/step - accuracy: 0.9911 - loss: 0.0247 \n",
      "Epoch 64/70\n",
      "\u001b[1m14/14\u001b[0m \u001b[32m━━━━━━━━━━━━━━━━━━━━\u001b[0m\u001b[37m\u001b[0m \u001b[1m0s\u001b[0m 2ms/step - accuracy: 0.9835 - loss: 0.0329     \n",
      "Epoch 65/70\n",
      "\u001b[1m14/14\u001b[0m \u001b[32m━━━━━━━━━━━━━━━━━━━━\u001b[0m\u001b[37m\u001b[0m \u001b[1m0s\u001b[0m 2ms/step - accuracy: 0.9874 - loss: 0.0314 \n",
      "Epoch 66/70\n",
      "\u001b[1m14/14\u001b[0m \u001b[32m━━━━━━━━━━━━━━━━━━━━\u001b[0m\u001b[37m\u001b[0m \u001b[1m0s\u001b[0m 2ms/step - accuracy: 0.9920 - loss: 0.0292 \n",
      "Epoch 67/70\n",
      "\u001b[1m14/14\u001b[0m \u001b[32m━━━━━━━━━━━━━━━━━━━━\u001b[0m\u001b[37m\u001b[0m \u001b[1m0s\u001b[0m 2ms/step - accuracy: 0.9957 - loss: 0.0218 \n",
      "Epoch 68/70\n",
      "\u001b[1m14/14\u001b[0m \u001b[32m━━━━━━━━━━━━━━━━━━━━\u001b[0m\u001b[37m\u001b[0m \u001b[1m0s\u001b[0m 2ms/step - accuracy: 0.9708 - loss: 0.0462 \n",
      "Epoch 69/70\n",
      "\u001b[1m14/14\u001b[0m \u001b[32m━━━━━━━━━━━━━━━━━━━━\u001b[0m\u001b[37m\u001b[0m \u001b[1m0s\u001b[0m 2ms/step - accuracy: 0.9825 - loss: 0.0295 \n",
      "Epoch 70/70\n",
      "\u001b[1m14/14\u001b[0m \u001b[32m━━━━━━━━━━━━━━━━━━━━\u001b[0m\u001b[37m\u001b[0m \u001b[1m0s\u001b[0m 2ms/step - accuracy: 0.9678 - loss: 0.0646 \n"
     ]
    },
    {
     "data": {
      "text/plain": [
       "<keras.src.callbacks.history.History at 0x788f5dab34c0>"
      ]
     },
     "execution_count": 19,
     "metadata": {},
     "output_type": "execute_result"
    }
   ],
   "source": [
    "model.fit(x_train, y_train, batch_size=batch_size, epochs=epochs, verbose=1)"
   ]
  },
  {
   "cell_type": "markdown",
   "id": "00bb601c",
   "metadata": {
    "papermill": {
     "duration": 0.034497,
     "end_time": "2024-06-23T08:32:15.259514",
     "exception": false,
     "start_time": "2024-06-23T08:32:15.225017",
     "status": "completed"
    },
    "tags": []
   },
   "source": [
    "# **Evaluate the model**"
   ]
  },
  {
   "cell_type": "code",
   "execution_count": 20,
   "id": "b718e5ad",
   "metadata": {
    "execution": {
     "iopub.execute_input": "2024-06-23T08:32:15.328861Z",
     "iopub.status.busy": "2024-06-23T08:32:15.328433Z",
     "iopub.status.idle": "2024-06-23T08:32:15.555570Z",
     "shell.execute_reply": "2024-06-23T08:32:15.554306Z"
    },
    "papermill": {
     "duration": 0.265693,
     "end_time": "2024-06-23T08:32:15.558300",
     "exception": false,
     "start_time": "2024-06-23T08:32:15.292607",
     "status": "completed"
    },
    "tags": []
   },
   "outputs": [
    {
     "name": "stdout",
     "output_type": "stream",
     "text": [
      "\u001b[1m1/1\u001b[0m \u001b[32m━━━━━━━━━━━━━━━━━━━━\u001b[0m\u001b[37m\u001b[0m \u001b[1m0s\u001b[0m 164ms/step - accuracy: 1.0000 - loss: 0.0650\n",
      "Test Accuracy: 1.0000\n"
     ]
    }
   ],
   "source": [
    "loss, accuracy = model.evaluate(x_test, y_test, verbose=1)\n",
    "print(f'Test Accuracy: {accuracy:.4f}')"
   ]
  },
  {
   "cell_type": "code",
   "execution_count": null,
   "id": "120a4c54",
   "metadata": {
    "papermill": {
     "duration": 0.032456,
     "end_time": "2024-06-23T08:32:15.623684",
     "exception": false,
     "start_time": "2024-06-23T08:32:15.591228",
     "status": "completed"
    },
    "tags": []
   },
   "outputs": [],
   "source": []
  }
 ],
 "metadata": {
  "colab": {
   "provenance": []
  },
  "kaggle": {
   "accelerator": "none",
   "dataSources": [
    {
     "datasetId": 17860,
     "sourceId": 23404,
     "sourceType": "datasetVersion"
    }
   ],
   "dockerImageVersionId": 30732,
   "isGpuEnabled": false,
   "isInternetEnabled": false,
   "language": "python",
   "sourceType": "notebook"
  },
  "kernelspec": {
   "display_name": "Python 3",
   "language": "python",
   "name": "python3"
  },
  "language_info": {
   "codemirror_mode": {
    "name": "ipython",
    "version": 3
   },
   "file_extension": ".py",
   "mimetype": "text/x-python",
   "name": "python",
   "nbconvert_exporter": "python",
   "pygments_lexer": "ipython3",
   "version": "3.10.13"
  },
  "papermill": {
   "default_parameters": {},
   "duration": 32.27524,
   "end_time": "2024-06-23T08:32:18.018862",
   "environment_variables": {},
   "exception": null,
   "input_path": "__notebook__.ipynb",
   "output_path": "__notebook__.ipynb",
   "parameters": {},
   "start_time": "2024-06-23T08:31:45.743622",
   "version": "2.5.0"
  }
 },
 "nbformat": 4,
 "nbformat_minor": 5
}
